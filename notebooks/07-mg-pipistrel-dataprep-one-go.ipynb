{
 "cells": [
  {
   "cell_type": "code",
   "execution_count": 1,
   "metadata": {},
   "outputs": [],
   "source": [
    "# from sklearn.decomposition import PCA\n",
    "import matplotlib.pyplot as plt\n",
    "%matplotlib inline"
   ]
  },
  {
   "cell_type": "code",
   "execution_count": 29,
   "metadata": {},
   "outputs": [],
   "source": [
    "import cv2\n",
    "import pandas as pd\n",
    "from tqdm import tqdm\n",
    "import numpy as np\n",
    "from pathlib import Path\n",
    "\n",
    "FOLDER_RAW_ORIG = '../data/raw/pipistrel/2018-10-07_Bodensee_chronologisch/'\n",
    "FOLDER_SCALED = '../data/processed/pipistrel/scaled-200/'\n",
    "SCALE_PERCENT = 5\n",
    "IMAGES_PATH = Path(FOLDER_SCALED)\n",
    "\n",
    "# Utility functions\n",
    "def display_image(image_name=None, parent=\"../data/processed/pipistrel/scaled-200/\"):\n",
    "    image = (Path(parent) / image_name).as_posix()\n",
    "    plt.imshow(cv2.imread(image))\n",
    "def get_image_shape(image_name=None, parent=\"../data/processed/pipistrel/scaled-200/\"):\n",
    "    image = (Path(parent) / image_name).as_posix()\n",
    "    return cv2.imread(image).shape\n",
    "def get_image_from_name(image_name=None, parent=\"../data/processed/pipistrel/scaled-200/\"):\n",
    "    image = (Path(parent) / image_name).as_posix()\n",
    "    return cv2.imread(image)\n",
    "def update_mask(mask, bbox_data):\n",
    "    x1, y1, x2, y2 = bbox_data\n",
    "    # Remember the image axis are inverted!!! (Y, X)\n",
    "    mask[y1:y2, x1:x2] = 1\n",
    "    return mask\n",
    "\n",
    "def get_df_training_masks(df, scale_percent=5, images_path=None):\n",
    "    df['boat'] = (df['class'] == 'boat').astype(np.int64)\n",
    "    df.drop(columns=['class', 'trackid'], inplace=True)\n",
    "    # Get number of boats per image\n",
    "    df_nboats = df.groupby('filename')['boat'].sum()\n",
    "    df_nboats = df_nboats.rename('n_boats')\n",
    "    # Add number of boats col\n",
    "    df = df.join(df_nboats, on='filename')\n",
    "    # Separate boat and no-boat\n",
    "    df_no_boat = df[df['n_boats']==0]\n",
    "    # Keep one record per image\n",
    "    df_no_boat = df_no_boat.groupby('filename', as_index=False)['n_boats'].first()\n",
    "    # Now boat images\n",
    "    # Some records have \"nature\" bboxes that we don't want (boat==0 & n_boat==1)\n",
    "    df_boat = df[(df['n_boats'] > 0) & (df['boat'] > 0)]\n",
    "    # Rescale bboxes according to the given scale percentage\n",
    "    df_boat.loc[:, ['xmin', 'ymin', 'xmax', 'ymax']] = (\n",
    "        df_boat.loc[:, ['xmin', 'ymin', 'xmax', 'ymax']] * scale_percent / 100\n",
    "    ).round(0).astype(np.int64)\n",
    "    # Get one sample image\n",
    "    pip_images_path = images_path\n",
    "    image = [x for x in pip_images_path.glob('*.jpg')][0]\n",
    "    # Create masks for boats\n",
    "    size=get_image_shape(image.name, parent=images_path.as_posix())[:2]\n",
    "    print(f'Image size: {size}')\n",
    "    mask = {}\n",
    "    for name, grp in tqdm(df_boat.groupby('filename')):\n",
    "    #     print(i, grp)\n",
    "        mask_tmp = np.zeros(size)\n",
    "    #     print(mask_tmp.shape)\n",
    "        for row in grp.itertuples():\n",
    "    #         print(row)\n",
    "            bbox_data = (row.xmin, row.ymin, row.xmax, row.ymax)\n",
    "    #         print(bbox_data)\n",
    "            mask_tmp = update_mask(mask_tmp, bbox_data)\n",
    "        mask[name] = mask_tmp\n",
    "    # Put mask in Series\n",
    "    s_mask = pd.Series(mask, name='mask')\n",
    "    # Create DF with masks\n",
    "    df_boat = df_boat[['filename', 'n_boats']].groupby(\n",
    "        'filename',\n",
    "        as_index=False\n",
    "    ).first().join(\n",
    "        s_mask,\n",
    "        on='filename',\n",
    "        how='left'\n",
    "    )\n",
    "    # Add empty masks to no-boat images\n",
    "    df_no_boat['mask'] = df_no_boat.apply(lambda x: np.zeros(size), axis=1)\n",
    "    return pd.concat((df_boat, df_no_boat))"
   ]
  },
  {
   "cell_type": "code",
   "execution_count": 26,
   "metadata": {},
   "outputs": [
    {
     "name": "stderr",
     "output_type": "stream",
     "text": [
      " 33%|███▎      | 155/472 [00:00<00:00, 1549.62it/s]"
     ]
    },
    {
     "name": "stdout",
     "output_type": "stream",
     "text": [
      "Image size: (123, 164)\n"
     ]
    },
    {
     "name": "stderr",
     "output_type": "stream",
     "text": [
      "100%|██████████| 472/472 [00:00<00:00, 1607.00it/s]\n"
     ]
    }
   ],
   "source": [
    "# Training labels\n",
    "df = pd.read_csv('../data/raw/pipistrel/labelsTrain.csv')\n",
    "df_train = get_df_training_masks(df, scale_percent=SCALE_PERCENT, images_path=IMAGES_PATH)"
   ]
  },
  {
   "cell_type": "code",
   "execution_count": 27,
   "metadata": {},
   "outputs": [
    {
     "data": {
      "text/html": [
       "<div>\n",
       "<style scoped>\n",
       "    .dataframe tbody tr th:only-of-type {\n",
       "        vertical-align: middle;\n",
       "    }\n",
       "\n",
       "    .dataframe tbody tr th {\n",
       "        vertical-align: top;\n",
       "    }\n",
       "\n",
       "    .dataframe thead th {\n",
       "        text-align: right;\n",
       "    }\n",
       "</style>\n",
       "<table border=\"1\" class=\"dataframe\">\n",
       "  <thead>\n",
       "    <tr style=\"text-align: right;\">\n",
       "      <th></th>\n",
       "      <th>filename</th>\n",
       "      <th>n_boats</th>\n",
       "      <th>mask</th>\n",
       "    </tr>\n",
       "  </thead>\n",
       "  <tbody>\n",
       "    <tr>\n",
       "      <th>0</th>\n",
       "      <td>Pipstrel-Virus_Bodensee_2018-02-13_15-41-05.jpg</td>\n",
       "      <td>1</td>\n",
       "      <td>[[0.0, 0.0, 0.0, 0.0, 0.0, 0.0, 0.0, 0.0, 0.0,...</td>\n",
       "    </tr>\n",
       "    <tr>\n",
       "      <th>1</th>\n",
       "      <td>Pipstrel-Virus_Bodensee_2018-02-13_15-41-06.jpg</td>\n",
       "      <td>1</td>\n",
       "      <td>[[0.0, 0.0, 0.0, 0.0, 0.0, 0.0, 0.0, 0.0, 0.0,...</td>\n",
       "    </tr>\n",
       "    <tr>\n",
       "      <th>2</th>\n",
       "      <td>Pipstrel-Virus_Bodensee_2018-02-13_15-41-07.jpg</td>\n",
       "      <td>1</td>\n",
       "      <td>[[0.0, 0.0, 0.0, 0.0, 0.0, 0.0, 0.0, 0.0, 0.0,...</td>\n",
       "    </tr>\n",
       "    <tr>\n",
       "      <th>3</th>\n",
       "      <td>Pipstrel-Virus_Bodensee_2018-02-13_15-41-09.jpg</td>\n",
       "      <td>1</td>\n",
       "      <td>[[0.0, 0.0, 0.0, 0.0, 0.0, 0.0, 0.0, 0.0, 0.0,...</td>\n",
       "    </tr>\n",
       "    <tr>\n",
       "      <th>4</th>\n",
       "      <td>Pipstrel-Virus_Bodensee_2018-02-13_15-41-10.jpg</td>\n",
       "      <td>1</td>\n",
       "      <td>[[0.0, 0.0, 0.0, 0.0, 0.0, 0.0, 0.0, 0.0, 0.0,...</td>\n",
       "    </tr>\n",
       "  </tbody>\n",
       "</table>\n",
       "</div>"
      ],
      "text/plain": [
       "                                          filename  n_boats  \\\n",
       "0  Pipstrel-Virus_Bodensee_2018-02-13_15-41-05.jpg        1   \n",
       "1  Pipstrel-Virus_Bodensee_2018-02-13_15-41-06.jpg        1   \n",
       "2  Pipstrel-Virus_Bodensee_2018-02-13_15-41-07.jpg        1   \n",
       "3  Pipstrel-Virus_Bodensee_2018-02-13_15-41-09.jpg        1   \n",
       "4  Pipstrel-Virus_Bodensee_2018-02-13_15-41-10.jpg        1   \n",
       "\n",
       "                                                mask  \n",
       "0  [[0.0, 0.0, 0.0, 0.0, 0.0, 0.0, 0.0, 0.0, 0.0,...  \n",
       "1  [[0.0, 0.0, 0.0, 0.0, 0.0, 0.0, 0.0, 0.0, 0.0,...  \n",
       "2  [[0.0, 0.0, 0.0, 0.0, 0.0, 0.0, 0.0, 0.0, 0.0,...  \n",
       "3  [[0.0, 0.0, 0.0, 0.0, 0.0, 0.0, 0.0, 0.0, 0.0,...  \n",
       "4  [[0.0, 0.0, 0.0, 0.0, 0.0, 0.0, 0.0, 0.0, 0.0,...  "
      ]
     },
     "execution_count": 27,
     "metadata": {},
     "output_type": "execute_result"
    }
   ],
   "source": [
    "df_train.head()"
   ]
  },
  {
   "cell_type": "code",
   "execution_count": 28,
   "metadata": {},
   "outputs": [
    {
     "name": "stdout",
     "output_type": "stream",
     "text": [
      "<class 'pandas.core.frame.DataFrame'>\n",
      "Int64Index: 821 entries, 0 to 348\n",
      "Data columns (total 3 columns):\n",
      "filename    821 non-null object\n",
      "n_boats     821 non-null int64\n",
      "mask        821 non-null object\n",
      "dtypes: int64(1), object(2)\n",
      "memory usage: 25.7+ KB\n"
     ]
    }
   ],
   "source": [
    "df_train.info()"
   ]
  },
  {
   "cell_type": "code",
   "execution_count": null,
   "metadata": {},
   "outputs": [],
   "source": []
  }
 ],
 "metadata": {
  "kernelspec": {
   "display_name": "Python 3",
   "language": "python",
   "name": "python3"
  },
  "language_info": {
   "codemirror_mode": {
    "name": "ipython",
    "version": 3
   },
   "file_extension": ".py",
   "mimetype": "text/x-python",
   "name": "python",
   "nbconvert_exporter": "python",
   "pygments_lexer": "ipython3",
   "version": "3.7.3"
  }
 },
 "nbformat": 4,
 "nbformat_minor": 2
}
